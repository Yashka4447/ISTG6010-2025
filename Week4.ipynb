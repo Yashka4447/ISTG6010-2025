{
  "nbformat": 4,
  "nbformat_minor": 0,
  "metadata": {
    "colab": {
      "provenance": [],
      "authorship_tag": "ABX9TyP2HT8P83gv844IwDksEJlw",
      "include_colab_link": true
    },
    "kernelspec": {
      "name": "python3",
      "display_name": "Python 3"
    },
    "language_info": {
      "name": "python"
    }
  },
  "cells": [
    {
      "cell_type": "markdown",
      "metadata": {
        "id": "view-in-github",
        "colab_type": "text"
      },
      "source": [
        "<a href=\"https://colab.research.google.com/github/Yashka4447/ISTG6010-2025/blob/main/Week4.ipynb\" target=\"_parent\"><img src=\"https://colab.research.google.com/assets/colab-badge.svg\" alt=\"Open In Colab\"/></a>"
      ]
    },
    {
      "cell_type": "code",
      "execution_count": null,
      "metadata": {
        "id": "LIWSsEoaH1rt"
      },
      "outputs": [],
      "source": []
    },
    {
      "cell_type": "code",
      "source": [
        "class Player:\n",
        "    def __init__(self, name: str):\n",
        "        self.name = name\n",
        "        self.board = Board()\n",
        "        self.ships = []\n",
        "\n",
        "    def place_ship(self, ship: 'Ship'):\n",
        "        self.ships.append(ship)\n",
        "        self.board.place_ship(ship)"
      ],
      "metadata": {
        "id": "8mblLUEUIDYW"
      },
      "execution_count": null,
      "outputs": []
    },
    {
      "cell_type": "code",
      "source": [
        "class Ship:\n",
        "    def __init__(self, name: str, size: int, position: list):\n",
        "        self.name = name\n",
        "        self.size = size\n",
        "        self.position = position  # List of tuples indicating coordinates\n",
        "        self.hits = 0\n",
        "\n",
        "    def is_sunk(self):\n",
        "        return self.hits >= self.size"
      ],
      "metadata": {
        "id": "HxH8tHqDJphS"
      },
      "execution_count": null,
      "outputs": []
    },
    {
      "cell_type": "code",
      "source": [
        "class Board:\n",
        "    def __init__(self):\n",
        "        self.grid = [[' ' for _ in range(10)] for _ in range(10)]  # 10x10 grid\n",
        "\n",
        "    def place_ship(self, ship: 'Ship'):\n",
        "        for (x, y) in ship.position:\n",
        "            self.grid[x][y] = 'S'  # Mark the ship's position on the grid\n",
        "\n",
        "    def receive_shot(self, x: int, y: int) -> str:\n",
        "        if self.grid[x][y] == 'S':  # If the shot hits a ship\n",
        "            return 'hit'\n",
        "        return 'miss'"
      ],
      "metadata": {
        "id": "U1UmVVYwJZG_"
      },
      "execution_count": null,
      "outputs": []
    },
    {
      "cell_type": "code",
      "source": [
        "class Game:\n",
        "    def __init__(self):\n",
        "        self.players = []\n",
        "        self.turn = 0\n",
        "\n",
        "    def add_player(self, player: 'Player'):\n",
        "        self.players.append(player)\n",
        "\n",
        "    def next_turn(self):\n",
        "        self.turn = (self.turn + 1) % len(self.players)\n",
        "\n",
        "    def current_player(self):\n",
        "        return self.players[self.turn]\n",
        "\n",
        "    def check_winner(self):\n",
        "        for player in self.players:\n",
        "            if all(ship.is_sunk() for ship in player.ships):\n",
        "                return None\n",
        "        return self.players[self.turn]"
      ],
      "metadata": {
        "id": "PuQxM8KAKSH9"
      },
      "execution_count": null,
      "outputs": []
    },
    {
      "cell_type": "code",
      "source": [
        "class Grid:\n",
        "    def __init__(self):\n",
        "        self.board = [[' ' for _ in range(10)] for _ in range(10)]\n",
        "\n",
        "    def display(self):\n",
        "        for row in self.board:\n",
        "            print(\" \".join(row))"
      ],
      "metadata": {
        "id": "4rpToevfDCQ_"
      },
      "execution_count": null,
      "outputs": []
    },
    {
      "cell_type": "code",
      "source": [
        "class Shot:\n",
        "    def __init__(self, x: int, y: int, result: str):\n",
        "        self.x = x\n",
        "        self.y = y\n",
        "        self.result = result  # 'hit' or 'miss'\n",
        "\n",
        "    def __str__(self):\n",
        "        return f\"Shot at ({self.x}, {self.y}) resulted in {self.result}\""
      ],
      "metadata": {
        "id": "FSnmmSanDGUg"
      },
      "execution_count": null,
      "outputs": []
    },
    {
      "cell_type": "code",
      "source": [
        "class Fleet:\n",
        "    def __init__(self):\n",
        "        self.ships = []\n",
        "\n",
        "    def add_ship(self, ship: 'Ship'):\n",
        "        self.ships.append(ship)\n",
        "\n",
        "    def all_sunk(self):\n",
        "        return all(ship.is_sunk() for ship in self.ships)"
      ],
      "metadata": {
        "id": "LdcXkL0XDTEE"
      },
      "execution_count": null,
      "outputs": []
    },
    {
      "cell_type": "code",
      "source": [
        "class Position:\n",
        "    def __init__(self, x: int, y: int):\n",
        "        self.x = x\n",
        "        self.y = y\n",
        "\n",
        "    def is_valid(self):\n",
        "        return 0 <= self.x < 10 and 0 <= self.y < 10"
      ],
      "metadata": {
        "id": "XjI4oiSkDY5z"
      },
      "execution_count": null,
      "outputs": []
    },
    {
      "cell_type": "code",
      "source": [
        "class ShipPlacementValidator:\n",
        "    def __init__(self, board: 'Board'):\n",
        "        self.board = board\n",
        "\n",
        "    def can_place_ship(self, ship: 'Ship') -> bool:\n",
        "        for (x, y) in ship.position:\n",
        "            if not (0 <= x < 10 and 0 <= y < 10) or self.board.grid[x][y] == 'S':\n",
        "                return False\n",
        "        return True"
      ],
      "metadata": {
        "id": "SfvAVCwKDdt7"
      },
      "execution_count": null,
      "outputs": []
    }
  ]
}